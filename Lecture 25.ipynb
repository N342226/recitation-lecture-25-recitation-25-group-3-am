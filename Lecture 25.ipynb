{
 "cells": [
  {
   "cell_type": "markdown",
   "metadata": {},
   "source": [
    "# Lecture 25 - Recitation Class"
   ]
  },
  {
   "cell_type": "markdown",
   "metadata": {},
   "source": [
    "It will help if your group assigns a member to share their screen so everyone can discuss together."
   ]
  },
  {
   "cell_type": "markdown",
   "metadata": {},
   "source": [
    "# Analytical Problems\n",
    "\n",
    "These problems are typically solved with paper and pencil. In Zoom, you can choose to have one of your team members to share their virtual whiteboard or use the Zoom whiteboard so everyone can edit and follow along."
   ]
  },
  {
   "cell_type": "markdown",
   "metadata": {},
   "source": [
    "## Problem 1\n",
    "\n",
    "$X$ is a random variable with density\n",
    "\n",
    "$$f_X(x) = \\begin{cases}c - \\frac{c}{2}x, & 0\\leq x\\leq 1\\\\ 0, & \\text{otherwise}\\end{cases}$$\n",
    "\n",
    "Answer the following questions:\n",
    "\n",
    "1. Find thevalue $c$ to make this a valid density.\n",
    "\n",
    "$\\frac{4}{3}$\n",
    "\n",
    "2. Find the cumulative distribution function for $X$.\n",
    "\n",
    "$\\int_{0}^{x} \\frac{4}{3} - \\frac{2}{3}x dx$ = $\\frac{4}{3}t - \\frac{1}{3}t^2$\n",
    "\n",
    "\n",
    "3. Find $P\\left(X\\leq\\frac{3}{4}\\right)$.\n",
    "\n",
    "$\\frac{13}{16}$\n",
    "\n",
    "4. Find $P\\left(\\frac{1}{4} < X \\leq \\frac{3}{4}\\right)$.\n",
    "\n",
    "$\\frac{1}{2}$\n",
    "\n",
    "5. Find $E[X]$.\n",
    "\n",
    "$\\int_{0}^{1} \\frac{4}{3}x - \\frac{2}{3}x^2dx$ = $\\frac{4}{9}$\n",
    "\n",
    "6. Find $E[9X+1]$.\n",
    "\n",
    "5\n",
    "\n",
    "7. Find $\\operatorname{Var}[X]$.\n",
    "\n",
    "E[$x^2$] - $\\frac{16}{81}$"
   ]
  },
  {
   "cell_type": "markdown",
   "metadata": {},
   "source": [
    "## Problem 2\n",
    "\n",
    "**Part I.** A professor makes an average of 2 errors in the problem descriptions of final exams.\n",
    "\n",
    "1. What is the probability that a given final exam has no errors?\n",
    "\n",
    "2. What is the probability that the exam will have 3 or more errors?\n",
    "\n",
    "**Part II.** Over many years, it is observed that the professor makes an average of 100 mistakes during lectures per semester.\n",
    "\n",
    "3. Give an approximation for the probability that the professor makes more than 125 mistakes during a semester."
   ]
  },
  {
   "cell_type": "markdown",
   "metadata": {},
   "source": [
    "## Problem 3\n",
    "\n",
    "Let $X$ be the Bernoulli RV with a mass function:\n",
    "\n",
    "$$p_X(x) = \\begin{cases}p , & x=1\\\\ 1-p, & x=0\\\\0, & \\text{otherwise}\\end{cases}$$\n",
    "\n",
    "Compute the variance of $X$."
   ]
  },
  {
   "cell_type": "markdown",
   "metadata": {},
   "source": [
    "## Problem 4\n",
    "\n",
    "Consider the following 3 cases for a density function, $f_X(x)$, of a random variable $X$:\n",
    "\n",
    "1. No skewness\n",
    "2. Positive skewness\n",
    "3. Negative skewness\n",
    "\n",
    "Using a depiction, *roughly* locate where the mean and median values are for each one of these cases. (In exercise 6 you will be working with numerical data.)"
   ]
  },
  {
   "cell_type": "markdown",
   "metadata": {},
   "source": [
    "## Problem 5\n",
    "\n",
    "Find the value $c$ that minimizes the expected mean-square error to a random variable $X$, $E[(X - c)^2]$.\n",
    "\n",
    "*Hint: How do you find the critical points of a function?*"
   ]
  },
  {
   "cell_type": "markdown",
   "metadata": {},
   "source": [
    "## Problem 6\n",
    "\n",
    "Recall the Firearms Mortality Data we worked with before. The code below computes Bootstrap sampling to measure the statistical significant of the mean-difference statistic between the firearms mortality for 2005 and 2014.\n",
    "\n",
    "Explain why the Bootstrap statistic follows a bell-shaped curve?"
   ]
  },
  {
   "cell_type": "code",
   "execution_count": 2,
   "metadata": {},
   "outputs": [
    {
     "data": {
      "image/png": "[encoded data removed]",
      "text/plain": [
       "<Figure size 432x288 with 1 Axes>"
      ]
     },
     "metadata": {},
     "output_type": "display_data"
    }
   ],
   "source": [
    "import pandas as pd\n",
    "import numpy.random as npr\n",
    "import matplotlib.pyplot as plt\n",
    "%matplotlib inline\n",
    "plt.style.use('ggplot')\n",
    "\n",
    "df = pd.read_csv('firearms-combined.csv')\n",
    "stacked_data = df[['RATE-2005','RATE-2014']].to_numpy()\n",
    "diff = df['RATE-2014'].mean() - df['RATE-2005'].mean()\n",
    "\n",
    "num_sims=10000\n",
    "bs_stats = []\n",
    "for sim in range(num_sims):\n",
    "    sample05=stacked_data[range(50),npr.randint(2,size=50)]\n",
    "    sample14=stacked_data[range(50),npr.randint(2,size=50)]\n",
    "    \n",
    "    mean05, mean14 = sample05.mean(), sample14.mean()\n",
    "    sample_diff = mean14-mean05\n",
    "    bs_stats += [sample_diff]\n",
    "    \n",
    "plt.hist(bs_stats)\n",
    "plt.title('Observed Mean-Difference ~='+str(round(diff,2)),size=15);"
   ]
  },
  {
   "cell_type": "markdown",
   "metadata": {},
   "source": [
    "# Simulation Problems\n",
    "\n",
    "These problems are solved using Python simulations.\n",
    "\n",
    "Use the cell below to (complete) load the necessary libraries, modules and magics."
   ]
  },
  {
   "cell_type": "code",
   "execution_count": null,
   "metadata": {},
   "outputs": [],
   "source": []
  },
  {
   "cell_type": "markdown",
   "metadata": {},
   "source": [
    "## Problem 7\n",
    "\n",
    "Recall the experiment where we flip a fair coin 20 times. Let $H_i$ be the event that $i$ Heads occurred.\n",
    "\n",
    "Which random variable would would describe this experiment for all possible $H_i$? Plot it."
   ]
  },
  {
   "cell_type": "markdown",
   "metadata": {},
   "source": [
    "## Problem 8\n",
    "\n",
    "Consider the random variable $X$ with density function:\n",
    "\n",
    "$$f_X(x) = \\begin{cases} c-\\frac{c}{2}x, & 0\\leq x\\leq 1 \\\\ 0, & \\text{otherwise} \\end{cases}$$\n",
    "\n",
    "Using ```sympy```, answer the following questions:\n",
    "\n",
    "1. Find the value of $c$ to make this a valid density.\n",
    "\n",
    "2. Compute the distribution function of $X$ for the value of $c$ found above.\n",
    "\n",
    "3. Compute $P\\left(X \\leq \\frac{1}{4}\\right)$. To compute this, you can use the method ```subs``` directly on the symbolic CDF function. Note: you can find information in the [library documentation page](https://docs.sympy.org/latest/modules/core.html?highlight=subs#sympy.core.basic.Basic.subs).\n",
    "\n",
    "4. Compute $P\\left(\\frac{1}{4} < X \\leq \\frac{3}{4}\\right)$.\n",
    "\n",
    "5. Find the expected value of $X$.\n",
    "\n",
    "6. Find $E[9X+4]$.\n",
    "\n",
    "7. Find $\\operatorname{Var}[X]$."
   ]
  },
  {
   "cell_type": "markdown",
   "metadata": {},
   "source": [
    "## Problem 9\n",
    "\n",
    "For each of the following three continuous random variables:\n",
    "\n",
    "$$X\\sim \\text{Exponential}(\\lambda=1)$$\n",
    "\n",
    "$$Y\\sim \\text{Gaussian}(\\mu=10,\\sigma^2=4)$$\n",
    "\n",
    "$$Z\\sim \\text{Binomial}(N=21,p=0.9)$$\n",
    "\n",
    "generate 10,000 samples, plot the histogram and compute their corresponding sample mean and sample median values. Characterize each sample with respect to its 3rd central moment (skewness).\n",
    "\n",
    "*Note: the parameter ```scale``` in the Gaussian distribution corresponds to the standard deviation $\\sigma$ not the variance $\\sigma^2$.*"
   ]
  },
  {
   "cell_type": "markdown",
   "metadata": {},
   "source": [
    "## Problem 10\n",
    "\n",
    "In 2003, there were many media reports about the number of shark attacks in Florida. At the end of the year, there were a total of 30 unprovoked shark attacks. By comparison, there were 246 shark attacks over the prior ten years. \n",
    "\n",
    "Answer the following questions:\n",
    "\n",
    "1. Using the pre-2003 data, simulate the number of shark attacks for 2003.\n",
    "\n",
    "1. Plot the density histogram of the distribution for the number of shark attacks in Florida.\n",
    "\n",
    "2. What is the probability that there would be 30 or more shark attacks in that year?"
   ]
  },
  {
   "cell_type": "markdown",
   "metadata": {},
   "source": [
    "## Problem 11\n",
    "\n",
    "Using the data from the \"High School & Beyond (HS&B)\" survey conducted by the National Center for Education Statistics (file \"hsb2.csv\"), answer the following questions:\n",
    "\n",
    "1. Compute the overlay histograms for the science scores for males and females. Use the same bin range, and make sure you plot include a legend.\n",
    "\n",
    "2. Each testing score sample (for both males and females) are considered be observations of random variables $X$ and $Y$, respectively. Compute the 1st moment, median, 2nd central moment, 3rd central moment and 4th central moment. What is your assessment with regards to the underlying distribution function shape? \n",
    "\n",
    "3. Estimate the density function for females' science scores and the density function for males' science scores using *Kernel Denisty Estimation (KDE)* with a Gaussian kernel (```scipy.stats.gaussian_kde```) and compare with your assessments in (2)."
   ]
  },
  {
   "cell_type": "markdown",
   "metadata": {},
   "source": [
    "# Bonus Points for Completion\n",
    "\n",
    "If your group completed all exercises, consider submitting it for extra bonus points.\n",
    "\n",
    "As always, confirm that you've successfully completed the assignment. Along with the Notebook, include a PDF of the notebook with your solutions. ```add``` and ```commit``` the final version of your work, and ```push``` your PDF file to your group GitHub repository.\n",
    "\n",
    "Submit the URL of your group GitHub repository as your assignment submission on Canvas. Along with the URL, leave a comment with your teammates' names and provide a participation rating for each member in a range of 1 to 5, where 1 means no participation and 5 means full contributor."
   ]
  }
 ],
 "metadata": {
  "kernelspec": {
   "display_name": "Python 3",
   "language": "python",
   "name": "python3"
  },
  "language_info": {
   "codemirror_mode": {
    "name": "ipython",
    "version": 3
   },
   "file_extension": ".py",
   "mimetype": "text/x-python",
   "name": "python",
   "nbconvert_exporter": "python",
   "pygments_lexer": "ipython3",
   "version": "3.8.3"
  },
  "latex_envs": {
   "LaTeX_envs_menu_present": true,
   "autoclose": false,
   "autocomplete": true,
   "bibliofile": "biblio.bib",
   "cite_by": "apalike",
   "current_citInitial": 1,
   "eqLabelWithNumbers": true,
   "eqNumInitial": 1,
   "hotkeys": {
    "equation": "Ctrl-E",
    "itemize": "Ctrl-I"
   },
   "labels_anchors": false,
   "latex_user_defs": false,
   "report_style_numbering": false,
   "user_envs_cfg": false
  },
  "varInspector": {
   "cols": {
    "lenName": 16,
    "lenType": 16,
    "lenVar": 40
   },
   "kernels_config": {
    "python": {
     "delete_cmd_postfix": "",
     "delete_cmd_prefix": "del ",
     "library": "var_list.py",
     "varRefreshCmd": "print(var_dic_list())"
    },
    "r": {
     "delete_cmd_postfix": ") ",
     "delete_cmd_prefix": "rm(",
     "library": "var_list.r",
     "varRefreshCmd": "cat(var_dic_list()) "
    }
   },
   "types_to_exclude": [
    "module",
    "function",
    "builtin_function_or_method",
    "instance",
    "_Feature"
   ],
   "window_display": false
  }
 },
 "nbformat": 4,
 "nbformat_minor": 4
}
