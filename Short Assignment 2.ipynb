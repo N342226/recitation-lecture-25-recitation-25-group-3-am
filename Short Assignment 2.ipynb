{
 "cells": [
  {
   "cell_type": "markdown",
   "metadata": {},
   "source": [
    "# Short Assignment 2"
   ]
  },
  {
   "cell_type": "markdown",
   "metadata": {},
   "source": [
    "This is an individial assignment."
   ]
  },
  {
   "cell_type": "code",
   "execution_count": null,
   "metadata": {},
   "outputs": [],
   "source": []
  },
  {
   "cell_type": "markdown",
   "metadata": {},
   "source": [
    "## Problem 1\n",
    "\n",
    "Consider the Rice random variable with a single parameter $b$ ($b>0$). In particular, let:\n",
    "\n",
    "$$X\\sim \\text{Rice}(b=1)$$\n",
    "\n",
    "Answer the following questions:\n",
    "\n",
    "1. Create and plot this random variable.\n",
    "\n",
    "2. Compute the expected value for this random variable.\n",
    "\n",
    "3. Sample random values from this R.V. and take the average for 1, 2, 5, 10, 50 and 100 samples (similarly as we did in lecture 21).\n",
    "    * Produce an interactive plot identical to that of Lecture 21. Include a fixed x-axis limit by using ```plt.xlim``` and add a title to the picture that computes the sample mean and the sample variance.\n",
    "    * What is the effect of the sample size in the shape of the distribution of the averages?\n",
    "    * What is the ffect of the sample size in the mean and standard deviation of the distribution of averages?\n",
    "    * What is the value that the distribution of averages will converge to?"
   ]
  },
  {
   "cell_type": "code",
   "execution_count": null,
   "metadata": {},
   "outputs": [],
   "source": []
  },
  {
   "cell_type": "code",
   "execution_count": null,
   "metadata": {},
   "outputs": [],
   "source": []
  },
  {
   "cell_type": "code",
   "execution_count": null,
   "metadata": {},
   "outputs": [],
   "source": []
  },
  {
   "cell_type": "markdown",
   "metadata": {},
   "source": [
    "## Problem 2\n",
    "\n",
    "Let $X$ be the random variable describing grades of EEL 4930. Assume that $X$ is Gaussian distributed with parameters $\\mu=75$ (mean) and $\\sigma^2=11$ (variance).\n",
    "\n",
    "Solve the following problems:\n",
    "\n",
    "1. For the set of grades defined below, compute its z-score.\n",
    "\n",
    "2. Find the curved grade if the professor puts everyone on a Gaussian curve with parameter $\\mu=84$ and $\\sigma^2=8$.\n",
    "\n",
    "3. Create a plot with the pdf for each Gaussian, and overlay the grades in the original distribution and its corresponding curved grade. Use different colors and symbols to allow for better visualization."
   ]
  },
  {
   "cell_type": "code",
   "execution_count": null,
   "metadata": {},
   "outputs": [],
   "source": [
    "grades = np.array([60, 70, 75, 80, 85, 90])"
   ]
  },
  {
   "cell_type": "code",
   "execution_count": null,
   "metadata": {},
   "outputs": [],
   "source": []
  },
  {
   "cell_type": "code",
   "execution_count": null,
   "metadata": {},
   "outputs": [],
   "source": []
  },
  {
   "cell_type": "markdown",
   "metadata": {},
   "source": [
    "## Problem 3\n",
    "\n",
    "Let $X\\sim G(\\mu=2, \\sigma^2=64)$. Answer the following questions:\n",
    "\n",
    "1. What is the probability that $X$ is greater than 3?\n",
    "\n",
    "2. What is the probability that the magnitude of $X$ is less than 1.25?\n",
    "\n",
    "3. If $P(X<c)=0.001$, what is $c$?"
   ]
  },
  {
   "cell_type": "code",
   "execution_count": null,
   "metadata": {},
   "outputs": [],
   "source": []
  },
  {
   "cell_type": "code",
   "execution_count": null,
   "metadata": {},
   "outputs": [],
   "source": []
  },
  {
   "cell_type": "code",
   "execution_count": null,
   "metadata": {},
   "outputs": [],
   "source": []
  },
  {
   "cell_type": "markdown",
   "metadata": {},
   "source": [
    "## Problem 4\n",
    "\n",
    "Consider the function\n",
    "\n",
    "$$f_X(x) = \\begin{cases} cx^4 & -1\\leq x\\leq 1 \\\\ 0 & \\text{otherwise}\\end{cases}$$\n",
    "\n",
    "1. Find $c$ for $f_X(x)$ to be a valid density function.\n",
    "\n",
    "2. Let $X$ be a random variable with density function $f_X(x)$. Find the cumulative distribution function of $X$.\n",
    "\n",
    "3. Find the mean of $X$.\n",
    "\n",
    "4. Find the variance of $X$.\n",
    "\n",
    "5. Find the expected value of $(X-1)^2$."
   ]
  },
  {
   "cell_type": "code",
   "execution_count": null,
   "metadata": {},
   "outputs": [],
   "source": []
  },
  {
   "cell_type": "code",
   "execution_count": null,
   "metadata": {},
   "outputs": [],
   "source": []
  },
  {
   "cell_type": "code",
   "execution_count": null,
   "metadata": {},
   "outputs": [],
   "source": []
  },
  {
   "cell_type": "code",
   "execution_count": null,
   "metadata": {},
   "outputs": [],
   "source": []
  },
  {
   "cell_type": "markdown",
   "metadata": {},
   "source": [
    "# Submit Your Solution\n",
    "\n",
    "Confirm that you've successfully completed the assignment.\n",
    "\n",
    "Along with the Notebook, include a PDF of the notebook with your solutions.\n",
    "\n",
    "```add``` and ```commit``` the final version of your work, and ```push``` your code to your GitHub repository.\n",
    "\n",
    "Submit the URL of your GitHub Repository as your assignment submission on Canvas."
   ]
  }
 ],
 "metadata": {
  "kernelspec": {
   "display_name": "Python 3",
   "language": "python",
   "name": "python3"
  },
  "language_info": {
   "codemirror_mode": {
    "name": "ipython",
    "version": 3
   },
   "file_extension": ".py",
   "mimetype": "text/x-python",
   "name": "python",
   "nbconvert_exporter": "python",
   "pygments_lexer": "ipython3",
   "version": "3.8.3"
  }
 },
 "nbformat": 4,
 "nbformat_minor": 4
}
